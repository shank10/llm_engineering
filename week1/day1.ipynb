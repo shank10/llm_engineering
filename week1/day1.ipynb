{
 "cells": [
  {
   "cell_type": "markdown",
   "id": "d15d8294-3328-4e07-ad16-8a03e9bbfdb9",
   "metadata": {},
   "source": [
    "# Instant Gratification!\n",
    "\n",
    "Let's build a useful LLM solution - in a matter of minutes.\n",
    "\n",
    "Our goal is to code a new kind of Web Browser. Give it a URL, and it will respond with a summary. The Reader's Digest of the internet!!\n",
    "\n",
    "Before starting, be sure to have followed the instructions in the \"README\" file, including creating your API key with OpenAI and adding it to the `.env` file.\n",
    "\n",
    "## If you're new to Jupyer Lab\n",
    "\n",
    "Welcome to the wonderful world of Data Science experimentation! Once you've used Jupyter Lab, you'll wonder how you ever lived without it. Simply click in each \"cell\" with code in it, such as the cell immediately below this text, and hit Shift+Return to execute that cell. As you wish, you can add a cell with the + button in the toolbar, and print values of variables, or try out variations.\n",
    "\n",
    "If you need to start a 'notebook' again, go to Kernel menu >> Restart kernel.\n",
    "\n",
    "## I am here to help\n",
    "\n",
    "If you have any problems at all, please do reach out.  \n",
    "I'm available through the platform, or at ed@edwarddonner.com, or at https://www.linkedin.com/in/eddonner/ if you'd like to connect.\n",
    "\n",
    "## Business value of these exercises\n",
    "\n",
    "A final thought. While I've designed these notebooks to be educational, I've also tried to make them enjoyable. We'll do fun things like have LLMs tell jokes and argue with each other. But fundamentally, my goal is to teach skills you can apply in business. I'll explain business implications as we go, and it's worth keeping this in mind: as you build experience with models and techniques, think of ways you could put this into action at work today. Please do contact me if you'd like to discuss more or if you have ideas to bounce off me."
   ]
  },
  {
   "cell_type": "code",
   "execution_count": 1,
   "id": "4e2a9393-7767-488e-a8bf-27c12dca35bd",
   "metadata": {},
   "outputs": [],
   "source": [
    "# imports\n",
    "\n",
    "import os\n",
    "import requests\n",
    "from dotenv import load_dotenv\n",
    "from bs4 import BeautifulSoup\n",
    "from IPython.display import Markdown, display\n",
    "from openai import OpenAI"
   ]
  },
  {
   "cell_type": "markdown",
   "id": "6900b2a8-6384-4316-8aaa-5e519fca4254",
   "metadata": {},
   "source": [
    "# Connecting to OpenAI\n",
    "\n",
    "The next cell is where we load in the environment variables in your `.env` file and connect to OpenAI.\n",
    "\n",
    "## Troubleshooting if you have problems:\n",
    "\n",
    "1. OpenAI takes a few minutes to register after you set up an account. If you receive an error about being over quota, try waiting a few minutes and try again.\n",
    "2. Also, double check you have the right kind of API token with the right permissions. You should find it on [this webpage](https://platform.openai.com/api-keys) and it should show with Permissions of \"All\". If not, try creating another key by:\n",
    "- Pressing \"Create new secret key\" on the top right\n",
    "- Select **Owned by:** you, **Project:** Default project, **Permissions:** All\n",
    "- Click Create secret key, and use that new key in the code and the `.env` file (it might take a few minutes to activate)\n",
    "- Do a Kernel >> Restart kernel, and execute the cells in this Jupyter lab starting at the top\n",
    "4. As a fallback, replace the line `openai = OpenAI()` with `openai = OpenAI(api_key=\"your-key-here\")` - while it's not recommended to hard code tokens in Jupyter lab, because then you can't share your lab with others, it's a workaround for now\n",
    "5. Contact me! Message me or email ed@edwarddonner.com and we will get this to work.\n",
    "\n",
    "Any concerns about API costs? See my notes in the README - costs should be minimal, and you can control it at every point."
   ]
  },
  {
   "cell_type": "code",
   "execution_count": 2,
   "id": "7b87cadb-d513-4303-baee-a37b6f938e4d",
   "metadata": {},
   "outputs": [],
   "source": [
    "# Load environment variables in a file called .env\n",
    "\n",
    "load_dotenv()\n",
    "os.environ['OPENAI_API_KEY'] = os.getenv('OPENAI_API_KEY','OPENAI_API_KEY')\n",
    "openai = OpenAI()\n",
    "\n",
    "# Uncomment the below line if this gives you any problems:\n",
    "# openai = OpenAI(api_key=\"your-key-here\")"
   ]
  },
  {
   "cell_type": "code",
   "execution_count": 3,
   "id": "c5e793b2-6775-426a-a139-4848291d0463",
   "metadata": {},
   "outputs": [],
   "source": [
    "# A class to represent a Webpage\n",
    "\n",
    "class Website:\n",
    "    url: str\n",
    "    title: str\n",
    "    text: str\n",
    "\n",
    "    def __init__(self, url):\n",
    "        self.url = url\n",
    "        response = requests.get(url)\n",
    "        soup = BeautifulSoup(response.content, 'html.parser')\n",
    "        self.title = soup.title.string if soup.title else \"No title found\"\n",
    "        for irrelevant in soup.body([\"script\", \"style\", \"img\", \"input\"]):\n",
    "            irrelevant.decompose()\n",
    "        self.text = soup.body.get_text(separator=\"\\n\", strip=True)"
   ]
  },
  {
   "cell_type": "code",
   "execution_count": 4,
   "id": "2ef960cf-6dc2-4cda-afb3-b38be12f4c97",
   "metadata": {},
   "outputs": [
    {
     "name": "stdout",
     "output_type": "stream",
     "text": [
      "Home | To ML or Not to ML\n",
      "top of page\n",
      "This site was designed with the\n",
      ".com\n",
      "website builder. Create your website today.\n",
      "Start Now\n",
      "Home\n",
      "About\n",
      "Contact\n",
      "More\n",
      "Use tab to navigate through the menu items.\n",
      "Infinite Quest\n",
      "My Data engineering and ML experiences\n",
      "Home: Welcome\n",
      "All Posts\n",
      "Product Management\n",
      "HR Language Model\n",
      "Snacking on ML\n",
      "Technical\n",
      "Supply-Chain Finance\n",
      "Search\n",
      "Log in / Sign up\n",
      "Shashank Shekhar\n",
      "Sep 2\n",
      "8 min\n",
      "TensorFlow Learning: Keras Tuner\n",
      "TF Programming using Keras Tuner\n",
      "0 views\n",
      "0 comments\n",
      "Post not marked as liked\n",
      "Shashank Shekhar\n",
      "Sep 1\n",
      "8 min\n",
      "Tensorflow Learning: part1\n",
      "TF programming\n",
      "1 view\n",
      "0 comments\n",
      "Post not marked as liked\n",
      "Shashank Shekhar\n",
      "Aug 5\n",
      "3 min\n",
      "Delinquency Forecasting Techniques for Business Loans: A Comprehensive Guide\n",
      "Loan Delinquency Prediction\n",
      "0 views\n",
      "0 comments\n",
      "1 like. Post not marked as liked\n",
      "1\n",
      "Shashank Shekhar\n",
      "Jul 30\n",
      "3 min\n",
      "Risk Assessment Report: A Vital Tool for Small Business Success\n",
      "Business Risk Assessment Report\n",
      "0 views\n",
      "0 comments\n",
      "Post not marked as liked\n",
      "Shashank Shekhar\n",
      "Jul 9\n",
      "4 min\n",
      "Determining Creditworthiness of a Small Business\n",
      "Techniques of Creditworthiness checks for small businesses\n",
      "0 views\n",
      "0 comments\n",
      "Post not marked as liked\n",
      "Shashank Shekhar\n",
      "Jun 25\n",
      "3 min\n",
      "Indian Furniture Market Analysis: Navigating Key Supply Chain Challenges\n",
      "Indian Furniture Market and Featherlite\n",
      "0 views\n",
      "0 comments\n",
      "Post not marked as liked\n",
      "Shashank Shekhar\n",
      "Jun 1\n",
      "4 min\n",
      "Invoice Factoring Techniques and Innovations: A Guide to Enhanced Cash Flow\n",
      "Invoice Factoring, minute details\n",
      "0 views\n",
      "0 comments\n",
      "Post not marked as liked\n",
      "Shashank Shekhar\n",
      "May 14\n",
      "3 min\n",
      "Invoice Financing and Factoring Loans: Essential Tools for Supply Chain Finance\n",
      "Introduction In the complex world of supply chain management, businesses frequently encounter cash flow challenges due to delayed...\n",
      "0 views\n",
      "0 comments\n",
      "Post not marked as liked\n",
      "Shashank Shekhar\n",
      "Apr 30\n",
      "4 min\n",
      "Invoice Financing: Streamlining Workflows and Business Processes for Suppliers and NBFCs\n",
      "Invoice Financing, how does it work\n",
      "0 views\n",
      "0 comments\n",
      "Post not marked as liked\n",
      "Shashank Shekhar\n",
      "Apr 3\n",
      "3 min\n",
      "The Transformative Role of AI in Supply Chain Finance\n",
      "AI a big enabler to supply-chain optimization and automation\n",
      "0 views\n",
      "0 comments\n",
      "Post not marked as liked\n",
      "Shashank Shekhar\n",
      "Mar 11\n",
      "6 min\n",
      "Know Your LLM - Part1\n",
      "Photo by Kate Trysh on Unsplash Language models have undergone a transformative evolution in recent years, leading to the development of...\n",
      "25 views\n",
      "0 comments\n",
      "Post not marked as liked\n",
      "Shashank Shekhar\n",
      "Mar 5\n",
      "3 min\n",
      "Navigating the Complexities of Supply Chain Financing for Large Manufacturers\n",
      "Supply-Chain finance challenges and solutions for a large manufacturer\n",
      "0 views\n",
      "0 comments\n",
      "Post not marked as liked\n",
      "Shashank Shekhar\n",
      "Feb 6\n",
      "2 min\n",
      "Supply-Chain Finance: A Lifeline for Modern Businesses\n",
      "Supply-Chain Finance\n",
      "0 views\n",
      "0 comments\n",
      "Post not marked as liked\n",
      "Shashank Shekhar\n",
      "Jan 17\n",
      "5 min\n",
      "Neural Networks Basics\n",
      "1. Neurons: Neural networks are composed of interconnected nodes called neurons. Neurons receive inputs, apply weights, and produce an...\n",
      "3 views\n",
      "0 comments\n",
      "Post not marked as liked\n",
      "Shashank Shekhar\n",
      "Dec 18, 2023\n",
      "3 min\n",
      "Fueling Success: The Employee Experience Connection\n",
      "There is a strong link between Customer Experience (CX) and Employee Experience (EX). An optimized CX generates loyalty and additional...\n",
      "2 views\n",
      "0 comments\n",
      "Post not marked as liked\n",
      "Shashank Shekhar\n",
      "Apr 6, 2023\n",
      "2 min\n",
      "Data, the necessary enabler of employee engagement\n",
      "This article first appeared here - https://entomo.co/blog/data-the-necessary-enabler-of-employee-engagement/ Against the background of...\n",
      "6 views\n",
      "0 comments\n",
      "1 like. Post not marked as liked\n",
      "1\n",
      "Shashank Shekhar\n",
      "Jan 15, 2021\n",
      "4 min\n",
      "Feature selection for ML – what to keep and what not to\n",
      "Photo by Edu Grande on Unsplash Feature selection is a major step in the Machine Learning pipeline. A feature is an individual measurable...\n",
      "16 views\n",
      "0 comments\n",
      "1 like. Post not marked as liked\n",
      "1\n",
      "Shashank Shekhar\n",
      "Jan 15, 2021\n",
      "1 min\n",
      "Probabilistic graphical models\n",
      "A probabilistic graphical model is a powerful framework which represents the conditional dependency among the random variables in a graph...\n",
      "2 views\n",
      "0 comments\n",
      "Post not marked as liked\n",
      "Shashank Shekhar\n",
      "Jan 4, 2021\n",
      "3 min\n",
      "Types of ML approaches\n",
      "ML has as essential attribute 'learning' that is acquiring knowledge or skills from experience, at a broad-level it could be classified...\n",
      "74 views\n",
      "0 comments\n",
      "1 like. Post not marked as liked\n",
      "1\n",
      "Shashank Shekhar\n",
      "Dec 8, 2020\n",
      "7 min\n",
      "Blockchain, IoT & ML - a magical concoction for Supply-Chain\n",
      "shipping and ports digital transformation.\n",
      "3 views\n",
      "0 comments\n",
      "Post not marked as liked\n",
      "1\n",
      "2\n",
      "Home: Blog2\n",
      "Subscribe Form\n",
      "Submit\n",
      "Thanks for submitting!\n",
      "Home: Subscribe\n",
      "Contact\n",
      "Submit\n",
      "Thanks for submitting!\n",
      "Home: Contact\n",
      "©2020 by Shashank Shekhar\n",
      "bottom of page\n"
     ]
    }
   ],
   "source": [
    "# Let's try one out\n",
    "\n",
    "shank = Website(\"https://sshekhar105.wixsite.com/infinitequest\")\n",
    "print(shank.title)\n",
    "print(shank.text)"
   ]
  },
  {
   "cell_type": "markdown",
   "id": "6a478a0c-2c53-48ff-869c-4d08199931e1",
   "metadata": {},
   "source": [
    "## Types of prompts\n",
    "\n",
    "You may know this already - but if not, you will get very familiar with it!\n",
    "\n",
    "Models like GPT4o have been trained to receive instructions in a particular way.\n",
    "\n",
    "They expect to receive:\n",
    "\n",
    "**A system prompt** that tells them what task they are performing and what tone they should use\n",
    "\n",
    "**A user prompt** -- the conversation starter that they should reply to"
   ]
  },
  {
   "cell_type": "code",
   "execution_count": 5,
   "id": "abdb8417-c5dc-44bc-9bee-2e059d162699",
   "metadata": {},
   "outputs": [],
   "source": [
    "system_prompt = \"You are an assistant that analyzes the contents of a website \\\n",
    "and provides a short summary, ignoring text that might be navigation related. \\\n",
    "Respond in markdown.\""
   ]
  },
  {
   "cell_type": "code",
   "execution_count": 6,
   "id": "f0275b1b-7cfe-4f9d-abfa-7650d378da0c",
   "metadata": {},
   "outputs": [],
   "source": [
    "def user_prompt_for(website):\n",
    "    user_prompt = f\"You are looking at a website titled {website.title}\"\n",
    "    user_prompt += \"The contents of this website is as follows; \\\n",
    "please provide a short summary of this website in markdown. \\\n",
    "If it includes news or announcements, then summarize these too.\\n\\n\"\n",
    "    user_prompt += website.text\n",
    "    return user_prompt"
   ]
  },
  {
   "cell_type": "markdown",
   "id": "ea211b5f-28e1-4a86-8e52-c0b7677cadcc",
   "metadata": {},
   "source": [
    "## Messages\n",
    "\n",
    "The API from OpenAI expects to receive messages in a particular structure.\n",
    "Many of the other APIs share this structure:\n",
    "\n",
    "```\n",
    "[\n",
    "    {\"role\": \"system\", \"content\": \"system message goes here\"},\n",
    "    {\"role\": \"user\", \"content\": \"user message goes here\"}\n",
    "]"
   ]
  },
  {
   "cell_type": "code",
   "execution_count": 7,
   "id": "0134dfa4-8299-48b5-b444-f2a8c3403c88",
   "metadata": {},
   "outputs": [],
   "source": [
    "def messages_for(website):\n",
    "    return [\n",
    "        {\"role\": \"system\", \"content\": system_prompt},\n",
    "        {\"role\": \"user\", \"content\": user_prompt_for(website)}\n",
    "    ]"
   ]
  },
  {
   "cell_type": "markdown",
   "id": "16f49d46-bf55-4c3e-928f-68fc0bf715b0",
   "metadata": {},
   "source": [
    "## Time to bring it together - the API for OpenAI is very simple!"
   ]
  },
  {
   "cell_type": "code",
   "execution_count": 8,
   "id": "905b9919-aba7-45b5-ae65-81b3d1d78e34",
   "metadata": {},
   "outputs": [],
   "source": [
    "def summarize(url):\n",
    "    website = Website(url)\n",
    "    response = openai.chat.completions.create(\n",
    "        model = \"gpt-4o-mini\",\n",
    "        messages = messages_for(website)\n",
    "    )\n",
    "    return response.choices[0].message.content"
   ]
  },
  {
   "cell_type": "code",
   "execution_count": 9,
   "id": "05e38d41-dfa4-4b20-9c96-c46ea75d9fb5",
   "metadata": {},
   "outputs": [
    {
     "data": {
      "text/plain": [
       "'# Website Summary\\n\\n**Title:** To ML or Not to ML\\n\\nThis website is a personal blog by Shashank Shekhar, focusing on data engineering and machine learning (ML). The blog features a variety of posts that cover topics such as TensorFlow programming, risk assessment in finance, delinquency forecasting, and the transformative role of AI in supply chain finance. \\n\\n## Recent Posts Highlights:\\n- **TensorFlow Learning: Keras Tuner** (Sep 2) - An 8-minute read on using Keras Tuner for TensorFlow programming.\\n- **TensorFlow Learning: Part 1** (Sep 1) - An introduction to TensorFlow programming.\\n- **Delinquency Forecasting Techniques for Business Loans** (Aug 5) - A comprehensive guide on predicting loan delinquency.\\n- **The Transformative Role of AI in Supply Chain Finance** (Apr 3) - Discusses how AI can optimize supply chain processes.\\n\\nThe content aims to share insights and experiences in ML and data engineering, making complex topics approachable for readers interested in these fields.'"
      ]
     },
     "execution_count": 9,
     "metadata": {},
     "output_type": "execute_result"
    }
   ],
   "source": [
    "summarize(\"https://sshekhar105.wixsite.com/infinitequest\")"
   ]
  },
  {
   "cell_type": "code",
   "execution_count": 10,
   "id": "3d926d59-450e-4609-92ba-2d6f244f1342",
   "metadata": {},
   "outputs": [],
   "source": [
    "def display_summary(url):\n",
    "    summary = summarize(url)\n",
    "    display(Markdown(summary))"
   ]
  },
  {
   "cell_type": "code",
   "execution_count": 11,
   "id": "3018853a-445f-41ff-9560-d925d1774b2f",
   "metadata": {},
   "outputs": [
    {
     "data": {
      "text/markdown": [
       "# Summary of \"To ML or Not to ML\"\n",
       "\n",
       "The website \"To ML or Not to ML\" features a blog written by Shashank Shekhar, focusing on various topics related to machine learning (ML), data engineering, and supply chain finance. The blog articles cover a range of subjects such as TensorFlow programming, delinquency forecasting techniques for business loans, risk assessment tools, and other technical insights into ML applications in the business sector.\n",
       "\n",
       "### Recent Posts:\n",
       "- **TensorFlow Learning: Keras Tuner** (Sep 2, 2023) - An article on TensorFlow programming utilizing Keras Tuner.\n",
       "- **TensorFlow Learning: Part 1** (Sep 1, 2023) - An introduction to TensorFlow programming.\n",
       "- **Delinquency Forecasting Techniques for Business Loans** (Aug 5, 2023) - A comprehensive guide on predicting loan delinquency.\n",
       "- **Risk Assessment Report: A Vital Tool for Small Business Success** (Jul 30, 2023) - Discusses the importance of risk assessment for small businesses.\n",
       "- **Determining Creditworthiness of a Small Business** (Jul 9, 2023) - Explores techniques for assessing creditworthiness.\n",
       "\n",
       "The blog seems to cater to professionals interested in applying ML in various commercial contexts, especially within finance and operations."
      ],
      "text/plain": [
       "<IPython.core.display.Markdown object>"
      ]
     },
     "metadata": {},
     "output_type": "display_data"
    }
   ],
   "source": [
    "display_summary(\"https://sshekhar105.wixsite.com/infinitequest\")"
   ]
  },
  {
   "cell_type": "code",
   "execution_count": null,
   "id": "45d83403-a24c-44b5-84ac-961449b4008f",
   "metadata": {},
   "outputs": [],
   "source": [
    "display_summary(\"https://cnn.com\")"
   ]
  },
  {
   "cell_type": "code",
   "execution_count": null,
   "id": "75e9fd40-b354-4341-991e-863ef2e59db7",
   "metadata": {},
   "outputs": [],
   "source": [
    "display_summary(\"https://anthropic.com\")"
   ]
  },
  {
   "cell_type": "markdown",
   "id": "c951be1a-7f1b-448f-af1f-845978e47e2c",
   "metadata": {},
   "source": [
    "## Business Applications\n",
    "\n",
    "In this exercise, you experienced calling the API of a Frontier Model (a leading model at the frontier of AI) for the first time. This is broadly applicable across Gen AI use cases and we will be using APIs like OpenAI at many stages in the course, in addition to building our own LLMs.\n",
    "\n",
    "More specifically, we've applied this to Summarization - a classic Gen AI use case to make a summary. This can be applied to any business vertical - summarizing the news, summarizing financial performance, summarizing a resume in a cover letter - the applications are limitless. Consider how you could apply Summarization in your business, and try prototyping a solution."
   ]
  },
  {
   "cell_type": "markdown",
   "id": "36ed9f14-b349-40e9-a42c-b367e77f8bda",
   "metadata": {},
   "source": [
    "## An extra exercise for those who enjoy web scraping\n",
    "\n",
    "You may notice that if you try `display_summary(\"https://openai.com\")` - it doesn't work! That's because OpenAI has a fancy website that uses Javascript. There are many ways around this that some of you might be familiar with. For example, Selenium is a hugely popular framework that runs a browser behind the scenes, renders the page, and allows you to query it. If you have experience with Selenium, Playwright or similar, then feel free to improve the Website class to use them."
   ]
  },
  {
   "cell_type": "markdown",
   "id": "eeab24dc-5f90-4570-b542-b0585aca3eb6",
   "metadata": {},
   "source": [
    "# Sharing your code\n",
    "\n",
    "I'd love it if you share your code afterwards so I can share it with others! You'll notice that some students have already made changes (including a Selenium implementation) which you will find in the community-contributions folder. If you'd like add your changes to that folder, submit a Pull Request with your new versions in that folder and I'll merge your changes.\n",
    "\n",
    "If you're not an expert with git (and I am not!) then GPT has given some nice instructions on how to submit a Pull Request. It's a bit of an involved process, but once you've done it once it's pretty clear. As a pro-tip: it's best if you clear the outputs of your Jupyter notebooks (Edit >> Clean outputs of all cells, and then Save) for clean notebooks.\n",
    "\n",
    "PR instructions courtesy of an AI friend: https://chatgpt.com/share/670145d5-e8a8-8012-8f93-39ee4e248b4c"
   ]
  },
  {
   "cell_type": "code",
   "execution_count": null,
   "id": "682eff74-55c4-4d4b-b267-703edbc293c7",
   "metadata": {},
   "outputs": [],
   "source": []
  }
 ],
 "metadata": {
  "kernelspec": {
   "display_name": "Python 3 (ipykernel)",
   "language": "python",
   "name": "python3"
  },
  "language_info": {
   "codemirror_mode": {
    "name": "ipython",
    "version": 3
   },
   "file_extension": ".py",
   "mimetype": "text/x-python",
   "name": "python",
   "nbconvert_exporter": "python",
   "pygments_lexer": "ipython3",
   "version": "3.11.10"
  }
 },
 "nbformat": 4,
 "nbformat_minor": 5
}
